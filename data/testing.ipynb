{
 "cells": [
  {
   "cell_type": "code",
   "execution_count": 3,
   "metadata": {},
   "outputs": [],
   "source": [
    "import pandas as pd\n",
    "\n",
    "# Lee los datos del archivo CSV\n",
    "df = pd.read_csv(\"data3.csv\")\n",
    "\n",
    "# Crea un diccionario para almacenar las canciones\n",
    "songs = {}\n",
    "\n",
    "# Recorre cada fila del DataFrame\n",
    "for _, row in df.iterrows():\n",
    "    user = row['user']\n",
    "    song = row['song']\n",
    "    features = row.drop(['user', 'song']).to_dict()\n",
    "\n",
    "    # Verifica si el usuario ya existe en el diccionario de canciones\n",
    "    if user in songs:\n",
    "        # Agrega las características de la canción al usuario existente\n",
    "        songs[user]['children'].append({'name': song, 'size': features})\n",
    "    else:\n",
    "        # Crea un nuevo nodo de usuario con la canción\n",
    "        songs[user] = {'name': user, 'children': [{'name': song, 'size': features}]}\n",
    "\n",
    "# Crea el nodo raíz con los usuarios como hijos\n",
    "root = {'name': 'Object', 'children': list(songs.values())}\n",
    "\n",
    "# Guarda la estructura de la jerarquía en un archivo JSON\n",
    "import json\n",
    "with open('tree_data.json', 'w') as file:\n",
    "    json.dump(root, file, indent=2)\n"
   ]
  }
 ],
 "metadata": {
  "kernelspec": {
   "display_name": "vdatavenv",
   "language": "python",
   "name": "python3"
  },
  "language_info": {
   "codemirror_mode": {
    "name": "ipython",
    "version": 3
   },
   "file_extension": ".py",
   "mimetype": "text/x-python",
   "name": "python",
   "nbconvert_exporter": "python",
   "pygments_lexer": "ipython3",
   "version": "3.8.5"
  },
  "orig_nbformat": 4
 },
 "nbformat": 4,
 "nbformat_minor": 2
}
